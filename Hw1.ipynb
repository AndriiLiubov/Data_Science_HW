{
 "cells": [
  {
   "cell_type": "markdown",
   "metadata": {},
   "source": [
    "1. Створіть одновимірний масив (вектор) з першими 10-ма натуральними числами та виведіть його значення."
   ]
  },
  {
   "cell_type": "code",
   "execution_count": 1,
   "metadata": {},
   "outputs": [
    {
     "name": "stdout",
     "output_type": "stream",
     "text": [
      "[ 1  2  3  4  5  6  7  8  9 10]\n"
     ]
    }
   ],
   "source": [
    "import numpy as np \n",
    "\n",
    "v = np.array([1,2,3,4,5,6,7,8,9,10])\n",
    "\n",
    "print(v)"
   ]
  },
  {
   "cell_type": "markdown",
   "metadata": {},
   "source": [
    "2. Створіть двовимірний масив (матрицю) розміром 3x3, заповніть його нулями та виведіть його значення."
   ]
  },
  {
   "cell_type": "code",
   "execution_count": 6,
   "metadata": {},
   "outputs": [
    {
     "name": "stdout",
     "output_type": "stream",
     "text": [
      "[[0 0 0]\n",
      " [0 0 0]\n",
      " [0 0 0]]\n"
     ]
    }
   ],
   "source": [
    "m = np.array([[0,0,0],[0,0,0],[0,0,0]])\n",
    "\n",
    "print(m)"
   ]
  },
  {
   "cell_type": "markdown",
   "metadata": {},
   "source": [
    "3. Створіть масив розміром 5x5, заповніть його випадковими цілими числами в діапазоні від 1 до 10 та виведіть його значення."
   ]
  },
  {
   "cell_type": "code",
   "execution_count": 10,
   "metadata": {},
   "outputs": [
    {
     "name": "stdout",
     "output_type": "stream",
     "text": [
      "[[ 2  9  6  3  6]\n",
      " [ 4  2  7  3  3]\n",
      " [ 9  1 10  4  3]\n",
      " [10 10  7  8  3]\n",
      " [ 5  7  6  6  4]]\n"
     ]
    }
   ],
   "source": [
    "m = np.random.randint(1, 11, (5, 5))\n",
    "\n",
    "print(m)"
   ]
  },
  {
   "cell_type": "markdown",
   "metadata": {},
   "source": [
    "4. Створіть масив розміром 4x4, заповніть його випадковими дійсними числами в діапазоні від 0 до 1 та виведіть його значення."
   ]
  },
  {
   "cell_type": "code",
   "execution_count": 11,
   "metadata": {},
   "outputs": [
    {
     "name": "stdout",
     "output_type": "stream",
     "text": [
      "[[0.4269057  0.18670535 0.10274641 0.17029742]\n",
      " [0.75424351 0.03198707 0.23990806 0.96619412]\n",
      " [0.54181046 0.47737414 0.49668715 0.71192445]\n",
      " [0.80572814 0.98014547 0.69904951 0.94466218]]\n"
     ]
    }
   ],
   "source": [
    "m = np.random.rand(4, 4)\n",
    "\n",
    "print(m)"
   ]
  },
  {
   "cell_type": "markdown",
   "metadata": {},
   "source": [
    "5. Створіть два одновимірних масиви розміром 5, заповніть їх випадковими цілими числами в діапазоні від 1 до 10 та виконайте на них поелементні операції додавання, віднімання та множення."
   ]
  },
  {
   "cell_type": "code",
   "execution_count": 23,
   "metadata": {},
   "outputs": [
    {
     "name": "stdout",
     "output_type": "stream",
     "text": [
      "[ 5  7  8  2 10]\n",
      "[ 5  9  7  7 10]\n",
      "[10 16 15  9 20]\n",
      "[ 0 -2  1 -5  0]\n",
      "[ 25  63  56  14 100]\n"
     ]
    }
   ],
   "source": [
    "v1 = np.random.randint(1, 11, 5)\n",
    "v2 = np.random.randint(1, 11, 5)\n",
    "\n",
    "print(v1)\n",
    "print(v2)\n",
    "print(v1 + v2)\n",
    "print(v1 - v2)\n",
    "print(v1 * v2)"
   ]
  },
  {
   "cell_type": "markdown",
   "metadata": {},
   "source": [
    "6. Створіть два вектори розміром 7, заповніть довільними числами та знайдіть їх скалярний добуток."
   ]
  },
  {
   "cell_type": "code",
   "execution_count": 22,
   "metadata": {},
   "outputs": [
    {
     "name": "stdout",
     "output_type": "stream",
     "text": [
      "[0.86493059 0.9360718  0.2956391  0.34483891 0.55003094 0.41406006\n",
      " 0.04419081]\n",
      "[0.40741816 0.80030426 0.50195946 0.34336446 0.99003728 0.21825931\n",
      " 0.85775536]\n",
      "2.0411634668862972\n"
     ]
    }
   ],
   "source": [
    "v1 = np.random.rand(7)\n",
    "v2 = np.random.rand(7)\n",
    "\n",
    "print(v1)\n",
    "print(v2)\n",
    "print(np.dot(v1, v2)) "
   ]
  },
  {
   "cell_type": "markdown",
   "metadata": {},
   "source": [
    "7. Створіть дві матриці розміром 2x2 та 2x3, заповніть їх випадковими цілими числами в діапазоні від 1 до 10 та перемножте їх між собою."
   ]
  },
  {
   "cell_type": "code",
   "execution_count": 21,
   "metadata": {},
   "outputs": [
    {
     "name": "stdout",
     "output_type": "stream",
     "text": [
      "[[1 7]\n",
      " [9 7]]\n",
      "[[2 6 8]\n",
      " [1 2 4]]\n",
      "[[  9  20  36]\n",
      " [ 25  68 100]]\n"
     ]
    }
   ],
   "source": [
    "m1 = np.random.randint(1, 11, (2, 2))\n",
    "m2 = np.random.randint(1, 11, (2, 3))\n",
    "\n",
    "print(m1)\n",
    "print(m2)\n",
    "print(np.dot(m1, m2))"
   ]
  },
  {
   "cell_type": "markdown",
   "metadata": {},
   "source": [
    "8. Створіть матрицю розміром 3x3, заповніть її випадковими цілими числами в діапазоні від 1 до 10 та знайдіть її обернену матрицю."
   ]
  },
  {
   "cell_type": "code",
   "execution_count": 19,
   "metadata": {},
   "outputs": [
    {
     "name": "stdout",
     "output_type": "stream",
     "text": [
      "[[10 10 10]\n",
      " [ 7  9  2]\n",
      " [ 1  1  6]]\n",
      "[[ 0.52 -0.5  -0.7 ]\n",
      " [-0.4   0.5   0.5 ]\n",
      " [-0.02  0.    0.2 ]]\n"
     ]
    }
   ],
   "source": [
    "m = np.random.randint(1, 11, (3, 3))\n",
    "\n",
    "print(m)\n",
    "print(np.linalg.inv(m))"
   ]
  },
  {
   "cell_type": "markdown",
   "metadata": {},
   "source": [
    "9. Створіть матрицю розміром 4x4, заповніть її випадковими дійсними числами в діапазоні від 0 до 1 та транспонуйте її."
   ]
  },
  {
   "cell_type": "code",
   "execution_count": 18,
   "metadata": {},
   "outputs": [
    {
     "name": "stdout",
     "output_type": "stream",
     "text": [
      "[[0.86481749 0.54064707 0.73068534 0.21209974]\n",
      " [0.02378867 0.89290521 0.7153979  0.98458335]\n",
      " [0.82543048 0.68753962 0.65442142 0.99422193]\n",
      " [0.19702273 0.07663579 0.67074998 0.33739039]]\n",
      "[[0.86481749 0.02378867 0.82543048 0.19702273]\n",
      " [0.54064707 0.89290521 0.68753962 0.07663579]\n",
      " [0.73068534 0.7153979  0.65442142 0.67074998]\n",
      " [0.21209974 0.98458335 0.99422193 0.33739039]]\n"
     ]
    }
   ],
   "source": [
    "m = np.random.rand(4, 4)\n",
    "\n",
    "mt = m.T\n",
    "print(m)\n",
    "print(mt)"
   ]
  },
  {
   "cell_type": "markdown",
   "metadata": {},
   "source": [
    "10. Створіть матрицю розміром 3x4 та вектор розміром 4, заповніть їх випадковими цілими числами в діапазоні від 1 до 10 та перемножте матрицю на вектор."
   ]
  },
  {
   "cell_type": "code",
   "execution_count": 24,
   "metadata": {},
   "outputs": [
    {
     "name": "stdout",
     "output_type": "stream",
     "text": [
      "[[ 9  3  6  6]\n",
      " [ 4  7 10  3]\n",
      " [ 8  2  1  2]]\n",
      "[ 6 10 10 10]\n",
      "[204 224  98]\n"
     ]
    }
   ],
   "source": [
    "m = np.random.randint(1, 11, (3, 4))\n",
    "v = np.random.randint(1, 11, 4)\n",
    "\n",
    "print(m)\n",
    "print(v)\n",
    "print(np.dot(m, v))"
   ]
  },
  {
   "cell_type": "markdown",
   "metadata": {},
   "source": [
    "11. Створіть матрицю розміром 2x3 та вектор розміром 3, заповніть їх випадковими дійсними числами в діапазоні від 0 до 1 та перемножте матрицю на вектор."
   ]
  },
  {
   "cell_type": "code",
   "execution_count": 25,
   "metadata": {},
   "outputs": [
    {
     "name": "stdout",
     "output_type": "stream",
     "text": [
      "[[0.46424583 0.31128087 0.88931469]\n",
      " [0.0775004  0.00240587 0.94826017]]\n",
      "[0.28836992 0.48912806 0.54149853]\n",
      "[0.76769333 0.53700705]\n"
     ]
    }
   ],
   "source": [
    "m = np.random.rand(2, 3)\n",
    "v = np.random.rand(3)\n",
    "\n",
    "print(m)\n",
    "print(v)\n",
    "print(np.dot(m, v))"
   ]
  },
  {
   "cell_type": "markdown",
   "metadata": {},
   "source": [
    "12. Створіть дві матриці розміром 2x2, заповніть їх випадковими цілими числами в діапазоні від 1 до 10 та виконайте їхнє поелементне множення."
   ]
  },
  {
   "cell_type": "code",
   "execution_count": 27,
   "metadata": {},
   "outputs": [
    {
     "name": "stdout",
     "output_type": "stream",
     "text": [
      "[[10  4]\n",
      " [ 4  3]]\n",
      "[[2 4]\n",
      " [3 8]]\n",
      "[[20 16]\n",
      " [12 24]]\n"
     ]
    }
   ],
   "source": [
    "m1 = np.random.randint(1, 11, (2, 2))\n",
    "m2 = np.random.randint(1, 11, (2, 2))\n",
    "\n",
    "print(m1)\n",
    "print(m2)\n",
    "print(m1 * m2)"
   ]
  },
  {
   "cell_type": "markdown",
   "metadata": {},
   "source": [
    "13. Створіть дві матриці розміром 2x2, заповніть їх випадковими цілими числами в діапазоні від 1 до 10 та знайдіть їх добуток."
   ]
  },
  {
   "cell_type": "code",
   "execution_count": 28,
   "metadata": {},
   "outputs": [
    {
     "name": "stdout",
     "output_type": "stream",
     "text": [
      "[[3 9]\n",
      " [4 5]]\n",
      "[[6 9]\n",
      " [2 2]]\n",
      "[[36 45]\n",
      " [34 46]]\n"
     ]
    }
   ],
   "source": [
    "m1 = np.random.randint(1, 11, (2, 2))\n",
    "m2 = np.random.randint(1, 11, (2, 2))\n",
    "\n",
    "print(m1)\n",
    "print(m2)\n",
    "print(np.dot(m1, m2))"
   ]
  },
  {
   "cell_type": "markdown",
   "metadata": {},
   "source": [
    "14. Створіть матрицю розміром 5x5, заповніть її випадковими цілими числами в діапазоні від 1 до 100 та знайдіть суму елементів матриці."
   ]
  },
  {
   "cell_type": "code",
   "execution_count": 32,
   "metadata": {},
   "outputs": [
    {
     "name": "stdout",
     "output_type": "stream",
     "text": [
      "[[23 31 10 93 44]\n",
      " [15 17 81 65 64]\n",
      " [20 25 44 22 73]\n",
      " [81 47 33 62 34]\n",
      " [99  1 83 19 78]]\n",
      "1164\n"
     ]
    }
   ],
   "source": [
    "m = m1 = np.random.randint(1, 101, (5, 5))\n",
    "\n",
    "print(m)\n",
    "print(m.sum())"
   ]
  },
  {
   "cell_type": "markdown",
   "metadata": {},
   "source": [
    "15. Створіть дві матриці розміром 4x4, заповніть їх випадковими цілими числами в діапазоні від 1 до 10 та знайдіть їхню різницю."
   ]
  },
  {
   "cell_type": "code",
   "execution_count": 33,
   "metadata": {},
   "outputs": [
    {
     "name": "stdout",
     "output_type": "stream",
     "text": [
      "[[ 2  9  8  8]\n",
      " [ 8  9  4  3]\n",
      " [ 8  2  2  6]\n",
      " [ 3  9  9 10]]\n",
      "[[10  3  5  7]\n",
      " [ 8  5 10 10]\n",
      " [ 1  8  1  3]\n",
      " [ 2  3  7  8]]\n",
      "[[-8  6  3  1]\n",
      " [ 0  4 -6 -7]\n",
      " [ 7 -6  1  3]\n",
      " [ 1  6  2  2]]\n"
     ]
    }
   ],
   "source": [
    "m1 = np.random.randint(1, 11, (4, 4))\n",
    "m2 = np.random.randint(1, 11, (4, 4))\n",
    "\n",
    "print(m1)\n",
    "print(m2)\n",
    "print(m1 - m2)"
   ]
  },
  {
   "cell_type": "markdown",
   "metadata": {},
   "source": [
    "16. Створіть матрицю розміром 3x3, заповніть її випадковими дійсними числами в діапазоні від 0 до 1 та знайдіть вектор-стовпчик, що містить суму елементів кожного рядка матриці."
   ]
  },
  {
   "cell_type": "code",
   "execution_count": 34,
   "metadata": {},
   "outputs": [
    {
     "name": "stdout",
     "output_type": "stream",
     "text": [
      "[[0.26946527 0.10457663 0.74792719]\n",
      " [0.75292031 0.96183801 0.16947506]\n",
      " [0.25924869 0.3148806  0.89966052]]\n",
      "[[1.12196909]\n",
      " [1.88423338]\n",
      " [1.47378981]]\n"
     ]
    }
   ],
   "source": [
    "m = np.random.rand(3, 3)\n",
    "\n",
    "print(m)\n",
    "print(m.sum(axis=1).reshape(-1,1))"
   ]
  },
  {
   "cell_type": "markdown",
   "metadata": {},
   "source": [
    "17. Створіть матрицю розміром 3x4 з довільними цілими числами і створінь матрицю з квадратами цих чисел."
   ]
  },
  {
   "cell_type": "code",
   "execution_count": 36,
   "metadata": {},
   "outputs": [
    {
     "name": "stdout",
     "output_type": "stream",
     "text": [
      "[[4 7 2 7]\n",
      " [7 9 4 7]\n",
      " [4 5 3 4]]\n",
      "[[16 49  4 49]\n",
      " [49 81 16 49]\n",
      " [16 25  9 16]]\n"
     ]
    }
   ],
   "source": [
    "m = np.random.randint(1, 11, (3, 4))\n",
    "\n",
    "print(m)\n",
    "print(np.square(m))"
   ]
  },
  {
   "cell_type": "markdown",
   "metadata": {},
   "source": [
    "18. Створіть вектор розміром 4, заповніть його випадковими цілими числами в діапазоні від 1 до 50 та знайдіть вектор з квадратними коренями цих чисел."
   ]
  },
  {
   "cell_type": "code",
   "execution_count": 34,
   "metadata": {},
   "outputs": [
    {
     "name": "stdout",
     "output_type": "stream",
     "text": [
      "[ 361   16  289 2116]\n"
     ]
    }
   ],
   "source": [
    "v = np.random.randint(1, 51, 4)\n",
    "\n",
    "print(v * v)"
   ]
  },
  {
   "cell_type": "code",
   "execution_count": null,
   "metadata": {},
   "outputs": [],
   "source": []
  }
 ],
 "metadata": {
  "kernelspec": {
   "display_name": "Python 3 (ipykernel)",
   "language": "python",
   "name": "python3"
  },
  "language_info": {
   "codemirror_mode": {
    "name": "ipython",
    "version": 3
   },
   "file_extension": ".py",
   "mimetype": "text/x-python",
   "name": "python",
   "nbconvert_exporter": "python",
   "pygments_lexer": "ipython3",
   "version": "3.12.3"
  }
 },
 "nbformat": 4,
 "nbformat_minor": 4
}
