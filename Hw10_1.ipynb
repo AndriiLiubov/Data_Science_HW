{
  "nbformat": 4,
  "nbformat_minor": 0,
  "metadata": {
    "colab": {
      "provenance": [],
      "gpuType": "T4"
    },
    "kernelspec": {
      "name": "python3",
      "display_name": "Python 3"
    },
    "language_info": {
      "name": "python"
    },
    "accelerator": "GPU"
  },
  "cells": [
    {
      "cell_type": "markdown",
      "source": [
        "**Regular CNN**"
      ],
      "metadata": {
        "id": "yKyLkoXrIgU6"
      }
    },
    {
      "cell_type": "code",
      "source": [
        "import tensorflow as tf\n",
        "from tensorflow import keras\n",
        "from tensorflow.keras import layers, models\n",
        "import numpy as np\n",
        "from PIL import Image\n",
        "from tensorflow.keras.applications import VGG16"
      ],
      "metadata": {
        "id": "nQBv5oaNImJf"
      },
      "execution_count": 1,
      "outputs": []
    },
    {
      "cell_type": "code",
      "source": [
        "(x_train, y_train), (x_test, y_test) = tf.keras.datasets.fashion_mnist.load_data()\n",
        "\n",
        "# Normalize pixel values to be between 0 and 1\n",
        "x_train = x_train.astype('float32') / 255.0\n",
        "x_test = x_test.astype('float32') / 255.0\n",
        "\n",
        "# Convert labels to one-hot encoding\n",
        "y_train = tf.keras.utils.to_categorical(y_train, num_classes=10)\n",
        "y_test = tf.keras.utils.to_categorical(y_test, num_classes=10)"
      ],
      "metadata": {
        "id": "5YNRTShLMGv7"
      },
      "execution_count": null,
      "outputs": []
    },
    {
      "cell_type": "code",
      "source": [
        "model = keras.Sequential([\n",
        "    layers.Conv2D(filters=32, kernel_size=(5,5), padding='same', activation='relu', input_shape=(28, 28, 1)),\n",
        "    layers.MaxPool2D(strides=2),\n",
        "    layers.Conv2D(filters=48, kernel_size=(5,5), padding='valid', activation='relu'),\n",
        "    #layers.Conv2D(filters=56, kernel_size=(6,6), padding='valid', activation='relu'),\n",
        "    layers.MaxPool2D(strides=2),\n",
        "    layers.Flatten(),\n",
        "    layers.Dense(256, activation='relu'),\n",
        "    layers.Dropout(0.3),\n",
        "    layers.Dense(84, activation='relu'),\n",
        "    layers.Dense(10, activation='softmax')\n",
        "])\n",
        "\n",
        "# Compile the model\n",
        "model.compile(\n",
        "    optimizer='adam',\n",
        "    loss='categorical_crossentropy',\n",
        "    metrics=['accuracy']\n",
        ")"
      ],
      "metadata": {
        "id": "aY8L-jCSMRsM"
      },
      "execution_count": null,
      "outputs": []
    },
    {
      "cell_type": "code",
      "source": [
        "# Train the model\n",
        "history = model.fit(x_train, y_train, epochs=20, batch_size=512, validation_data=(x_test, y_test))"
      ],
      "metadata": {
        "id": "4yG6UqikMTr0",
        "colab": {
          "base_uri": "https://localhost:8080/"
        },
        "outputId": "100f39ac-a079-492d-92f0-c948dd9b169b"
      },
      "execution_count": null,
      "outputs": [
        {
          "output_type": "stream",
          "name": "stdout",
          "text": [
            "Epoch 1/20\n",
            "\u001b[1m118/118\u001b[0m \u001b[32m━━━━━━━━━━━━━━━━━━━━\u001b[0m\u001b[37m\u001b[0m \u001b[1m97s\u001b[0m 795ms/step - accuracy: 0.6103 - loss: 1.1250 - val_accuracy: 0.8293 - val_loss: 0.4742\n",
            "Epoch 2/20\n",
            "\u001b[1m118/118\u001b[0m \u001b[32m━━━━━━━━━━━━━━━━━━━━\u001b[0m\u001b[37m\u001b[0m \u001b[1m88s\u001b[0m 744ms/step - accuracy: 0.8337 - loss: 0.4563 - val_accuracy: 0.8641 - val_loss: 0.3732\n",
            "Epoch 3/20\n",
            "\u001b[1m118/118\u001b[0m \u001b[32m━━━━━━━━━━━━━━━━━━━━\u001b[0m\u001b[37m\u001b[0m \u001b[1m89s\u001b[0m 755ms/step - accuracy: 0.8675 - loss: 0.3694 - val_accuracy: 0.8781 - val_loss: 0.3370\n",
            "Epoch 4/20\n",
            "\u001b[1m118/118\u001b[0m \u001b[32m━━━━━━━━━━━━━━━━━━━━\u001b[0m\u001b[37m\u001b[0m \u001b[1m141s\u001b[0m 750ms/step - accuracy: 0.8789 - loss: 0.3266 - val_accuracy: 0.8858 - val_loss: 0.3149\n",
            "Epoch 5/20\n",
            "\u001b[1m118/118\u001b[0m \u001b[32m━━━━━━━━━━━━━━━━━━━━\u001b[0m\u001b[37m\u001b[0m \u001b[1m141s\u001b[0m 745ms/step - accuracy: 0.8906 - loss: 0.3016 - val_accuracy: 0.8863 - val_loss: 0.3078\n",
            "Epoch 6/20\n",
            "\u001b[1m118/118\u001b[0m \u001b[32m━━━━━━━━━━━━━━━━━━━━\u001b[0m\u001b[37m\u001b[0m \u001b[1m87s\u001b[0m 741ms/step - accuracy: 0.8985 - loss: 0.2755 - val_accuracy: 0.8911 - val_loss: 0.2986\n",
            "Epoch 7/20\n",
            "\u001b[1m118/118\u001b[0m \u001b[32m━━━━━━━━━━━━━━━━━━━━\u001b[0m\u001b[37m\u001b[0m \u001b[1m91s\u001b[0m 771ms/step - accuracy: 0.9034 - loss: 0.2646 - val_accuracy: 0.8993 - val_loss: 0.2733\n",
            "Epoch 8/20\n",
            "\u001b[1m118/118\u001b[0m \u001b[32m━━━━━━━━━━━━━━━━━━━━\u001b[0m\u001b[37m\u001b[0m \u001b[1m89s\u001b[0m 757ms/step - accuracy: 0.9098 - loss: 0.2462 - val_accuracy: 0.9015 - val_loss: 0.2630\n",
            "Epoch 9/20\n",
            "\u001b[1m118/118\u001b[0m \u001b[32m━━━━━━━━━━━━━━━━━━━━\u001b[0m\u001b[37m\u001b[0m \u001b[1m142s\u001b[0m 753ms/step - accuracy: 0.9148 - loss: 0.2326 - val_accuracy: 0.9009 - val_loss: 0.2729\n",
            "Epoch 10/20\n",
            "\u001b[1m118/118\u001b[0m \u001b[32m━━━━━━━━━━━━━━━━━━━━\u001b[0m\u001b[37m\u001b[0m \u001b[1m141s\u001b[0m 752ms/step - accuracy: 0.9175 - loss: 0.2203 - val_accuracy: 0.9066 - val_loss: 0.2663\n",
            "Epoch 11/20\n",
            "\u001b[1m118/118\u001b[0m \u001b[32m━━━━━━━━━━━━━━━━━━━━\u001b[0m\u001b[37m\u001b[0m \u001b[1m139s\u001b[0m 728ms/step - accuracy: 0.9240 - loss: 0.2082 - val_accuracy: 0.9074 - val_loss: 0.2500\n",
            "Epoch 12/20\n",
            "\u001b[1m118/118\u001b[0m \u001b[32m━━━━━━━━━━━━━━━━━━━━\u001b[0m\u001b[37m\u001b[0m \u001b[1m142s\u001b[0m 725ms/step - accuracy: 0.9254 - loss: 0.2000 - val_accuracy: 0.9093 - val_loss: 0.2430\n",
            "Epoch 13/20\n",
            "\u001b[1m118/118\u001b[0m \u001b[32m━━━━━━━━━━━━━━━━━━━━\u001b[0m\u001b[37m\u001b[0m \u001b[1m143s\u001b[0m 731ms/step - accuracy: 0.9260 - loss: 0.1995 - val_accuracy: 0.9126 - val_loss: 0.2473\n",
            "Epoch 14/20\n",
            "\u001b[1m118/118\u001b[0m \u001b[32m━━━━━━━━━━━━━━━━━━━━\u001b[0m\u001b[37m\u001b[0m \u001b[1m144s\u001b[0m 745ms/step - accuracy: 0.9297 - loss: 0.1851 - val_accuracy: 0.9129 - val_loss: 0.2328\n",
            "Epoch 15/20\n",
            "\u001b[1m118/118\u001b[0m \u001b[32m━━━━━━━━━━━━━━━━━━━━\u001b[0m\u001b[37m\u001b[0m \u001b[1m87s\u001b[0m 740ms/step - accuracy: 0.9379 - loss: 0.1707 - val_accuracy: 0.9157 - val_loss: 0.2348\n",
            "Epoch 16/20\n",
            "\u001b[1m118/118\u001b[0m \u001b[32m━━━━━━━━━━━━━━━━━━━━\u001b[0m\u001b[37m\u001b[0m \u001b[1m87s\u001b[0m 736ms/step - accuracy: 0.9360 - loss: 0.1717 - val_accuracy: 0.9178 - val_loss: 0.2300\n",
            "Epoch 17/20\n",
            "\u001b[1m118/118\u001b[0m \u001b[32m━━━━━━━━━━━━━━━━━━━━\u001b[0m\u001b[37m\u001b[0m \u001b[1m142s\u001b[0m 740ms/step - accuracy: 0.9432 - loss: 0.1557 - val_accuracy: 0.9188 - val_loss: 0.2344\n",
            "Epoch 18/20\n",
            "\u001b[1m118/118\u001b[0m \u001b[32m━━━━━━━━━━━━━━━━━━━━\u001b[0m\u001b[37m\u001b[0m \u001b[1m141s\u001b[0m 733ms/step - accuracy: 0.9438 - loss: 0.1502 - val_accuracy: 0.9171 - val_loss: 0.2393\n",
            "Epoch 19/20\n",
            "\u001b[1m118/118\u001b[0m \u001b[32m━━━━━━━━━━━━━━━━━━━━\u001b[0m\u001b[37m\u001b[0m \u001b[1m86s\u001b[0m 728ms/step - accuracy: 0.9480 - loss: 0.1415 - val_accuracy: 0.9212 - val_loss: 0.2291\n",
            "Epoch 20/20\n",
            "\u001b[1m118/118\u001b[0m \u001b[32m━━━━━━━━━━━━━━━━━━━━\u001b[0m\u001b[37m\u001b[0m \u001b[1m86s\u001b[0m 733ms/step - accuracy: 0.9490 - loss: 0.1335 - val_accuracy: 0.9175 - val_loss: 0.2352\n"
          ]
        }
      ]
    },
    {
      "cell_type": "code",
      "source": [
        "# Evaluate the model\n",
        "loss, accuracy = model.evaluate(x_test, y_test, verbose=0)\n",
        "print('Test loss:', loss)\n",
        "print('Test accuracy:', accuracy)"
      ],
      "metadata": {
        "colab": {
          "base_uri": "https://localhost:8080/"
        },
        "id": "vPydIGO49g3I",
        "outputId": "80d11727-e9ac-41f2-8c5e-5f73a4888e25"
      },
      "execution_count": null,
      "outputs": [
        {
          "output_type": "stream",
          "name": "stdout",
          "text": [
            "Test loss: 0.2351500540971756\n",
            "Test accuracy: 0.9175000190734863\n"
          ]
        }
      ]
    },
    {
      "cell_type": "markdown",
      "source": [
        "По сравнению с заданием 9, в котором результат был Test accuracy: 0.9030, CNN дало лучше результат (была сложность с переобучением). Также CNN требует ьольше времени."
      ],
      "metadata": {
        "id": "iGkoPhZDaX4B"
      }
    },
    {
      "cell_type": "markdown",
      "source": [
        "**VGG16**"
      ],
      "metadata": {
        "id": "MgQdBzAAb-nM"
      }
    },
    {
      "cell_type": "markdown",
      "source": [
        "Выделение признаков"
      ],
      "metadata": {
        "id": "3y890IcKkBar"
      }
    },
    {
      "cell_type": "code",
      "source": [
        "(x_train, y_train), (x_test, y_test) = tf.keras.datasets.fashion_mnist.load_data()"
      ],
      "metadata": {
        "colab": {
          "base_uri": "https://localhost:8080/"
        },
        "id": "cMjLTMvLkDlT",
        "outputId": "4da6fa13-56f8-457e-c590-5e81dec77459"
      },
      "execution_count": 2,
      "outputs": [
        {
          "output_type": "stream",
          "name": "stdout",
          "text": [
            "Downloading data from https://storage.googleapis.com/tensorflow/tf-keras-datasets/train-labels-idx1-ubyte.gz\n",
            "\u001b[1m29515/29515\u001b[0m \u001b[32m━━━━━━━━━━━━━━━━━━━━\u001b[0m\u001b[37m\u001b[0m \u001b[1m0s\u001b[0m 0us/step\n",
            "Downloading data from https://storage.googleapis.com/tensorflow/tf-keras-datasets/train-images-idx3-ubyte.gz\n",
            "\u001b[1m26421880/26421880\u001b[0m \u001b[32m━━━━━━━━━━━━━━━━━━━━\u001b[0m\u001b[37m\u001b[0m \u001b[1m0s\u001b[0m 0us/step\n",
            "Downloading data from https://storage.googleapis.com/tensorflow/tf-keras-datasets/t10k-labels-idx1-ubyte.gz\n",
            "\u001b[1m5148/5148\u001b[0m \u001b[32m━━━━━━━━━━━━━━━━━━━━\u001b[0m\u001b[37m\u001b[0m \u001b[1m0s\u001b[0m 0us/step\n",
            "Downloading data from https://storage.googleapis.com/tensorflow/tf-keras-datasets/t10k-images-idx3-ubyte.gz\n",
            "\u001b[1m4422102/4422102\u001b[0m \u001b[32m━━━━━━━━━━━━━━━━━━━━\u001b[0m\u001b[37m\u001b[0m \u001b[1m0s\u001b[0m 0us/step\n"
          ]
        }
      ]
    },
    {
      "cell_type": "code",
      "source": [
        "# Change image size\n",
        "\n",
        "X_train_resized = []\n",
        "X_test_resized = []\n",
        "\n",
        "for image in x_train:\n",
        "    image = Image.fromarray(image)\n",
        "    image = image.resize((32, 32))\n",
        "    image = np.array(image)\n",
        "    X_train_resized.append(image)\n",
        "\n",
        "for image in x_test:\n",
        "    image = Image.fromarray(image)\n",
        "    image = image.resize((32, 32))\n",
        "    image = np.array(image)\n",
        "    X_test_resized.append(image)\n",
        "\n",
        "X_train_resized = np.array(X_train_resized)\n",
        "X_test_resized = np.array(X_test_resized)"
      ],
      "metadata": {
        "id": "3hzoyROVwKKi"
      },
      "execution_count": 3,
      "outputs": []
    },
    {
      "cell_type": "code",
      "source": [
        "# Add a third channel to the images\n",
        "\n",
        "X_train_resized = np.repeat(X_train_resized[..., np.newaxis], 3, -1)\n",
        "X_test_resized = np.repeat(X_test_resized[..., np.newaxis], 3, -1)"
      ],
      "metadata": {
        "id": "PoQWDdUBwOYx"
      },
      "execution_count": 4,
      "outputs": []
    },
    {
      "cell_type": "code",
      "source": [
        "# Preprocess the images\n",
        "\n",
        "X_train_prepared = tf.keras.applications.vgg16.preprocess_input(X_train_resized)\n",
        "X_test_prepared = tf.keras.applications.vgg16.preprocess_input(X_test_resized)"
      ],
      "metadata": {
        "id": "ekPm2LEbwcft"
      },
      "execution_count": 5,
      "outputs": []
    },
    {
      "cell_type": "code",
      "source": [
        "# one-hot encoding\n",
        "Y_train_prepared = tf.keras.utils.to_categorical(y_train, num_classes=10)\n",
        "Y_test_prepared = tf.keras.utils.to_categorical(y_test, num_classes=10)"
      ],
      "metadata": {
        "id": "7SmSW_xIwtjO"
      },
      "execution_count": 6,
      "outputs": []
    },
    {
      "cell_type": "code",
      "source": [
        "base_model = VGG16(weights='imagenet', include_top=False, input_shape=(32, 32, 3))\n",
        "base_model.trainable = False"
      ],
      "metadata": {
        "colab": {
          "base_uri": "https://localhost:8080/"
        },
        "id": "JrDlzkirwyGj",
        "outputId": "202f06c2-a431-4074-f5e5-eb76e440b992"
      },
      "execution_count": 7,
      "outputs": [
        {
          "output_type": "stream",
          "name": "stdout",
          "text": [
            "Downloading data from https://storage.googleapis.com/tensorflow/keras-applications/vgg16/vgg16_weights_tf_dim_ordering_tf_kernels_notop.h5\n",
            "\u001b[1m58889256/58889256\u001b[0m \u001b[32m━━━━━━━━━━━━━━━━━━━━\u001b[0m\u001b[37m\u001b[0m \u001b[1m0s\u001b[0m 0us/step\n"
          ]
        }
      ]
    },
    {
      "cell_type": "code",
      "source": [
        "from keras import regularizers\n",
        "\n",
        "model = models.Sequential()\n",
        "model.add(base_model)\n",
        "model.add(layers.Flatten())\n",
        "model.add(layers.Dense(256, activation='relu'))\n",
        "# model.add(layers.Dense(64, activation='relu', kernel_initializer=\"he_normal\", kernel_regularizer=regularizers.l2())),\n",
        "model.add(layers.Dropout(0.5))\n",
        "model.add(layers.Dense(10, activation='softmax'))"
      ],
      "metadata": {
        "id": "Lib5U6sow7hl"
      },
      "execution_count": 59,
      "outputs": []
    },
    {
      "cell_type": "code",
      "source": [
        "model.compile(\n",
        "    optimizer='adam',\n",
        "    loss='categorical_crossentropy',\n",
        "    metrics=['accuracy']\n",
        ")"
      ],
      "metadata": {
        "id": "CreAqUOyw79L"
      },
      "execution_count": 60,
      "outputs": []
    },
    {
      "cell_type": "code",
      "source": [
        "model.fit(X_train_prepared, Y_train_prepared, epochs=50, batch_size=512, validation_split=0.2)"
      ],
      "metadata": {
        "colab": {
          "base_uri": "https://localhost:8080/"
        },
        "id": "HG4xVlN2w-If",
        "outputId": "e9412750-9bf5-4bc0-f873-2be652894fe6"
      },
      "execution_count": 61,
      "outputs": [
        {
          "output_type": "stream",
          "name": "stdout",
          "text": [
            "Epoch 1/50\n",
            "\u001b[1m94/94\u001b[0m \u001b[32m━━━━━━━━━━━━━━━━━━━━\u001b[0m\u001b[37m\u001b[0m \u001b[1m11s\u001b[0m 96ms/step - accuracy: 0.5267 - loss: 8.4480 - val_accuracy: 0.7830 - val_loss: 0.7217\n",
            "Epoch 2/50\n",
            "\u001b[1m94/94\u001b[0m \u001b[32m━━━━━━━━━━━━━━━━━━━━\u001b[0m\u001b[37m\u001b[0m \u001b[1m5s\u001b[0m 55ms/step - accuracy: 0.7322 - loss: 0.9185 - val_accuracy: 0.8058 - val_loss: 0.5846\n",
            "Epoch 3/50\n",
            "\u001b[1m94/94\u001b[0m \u001b[32m━━━━━━━━━━━━━━━━━━━━\u001b[0m\u001b[37m\u001b[0m \u001b[1m11s\u001b[0m 58ms/step - accuracy: 0.7635 - loss: 0.6978 - val_accuracy: 0.8156 - val_loss: 0.5359\n",
            "Epoch 4/50\n",
            "\u001b[1m94/94\u001b[0m \u001b[32m━━━━━━━━━━━━━━━━━━━━\u001b[0m\u001b[37m\u001b[0m \u001b[1m10s\u001b[0m 59ms/step - accuracy: 0.7902 - loss: 0.6076 - val_accuracy: 0.8245 - val_loss: 0.5026\n",
            "Epoch 5/50\n",
            "\u001b[1m94/94\u001b[0m \u001b[32m━━━━━━━━━━━━━━━━━━━━\u001b[0m\u001b[37m\u001b[0m \u001b[1m10s\u001b[0m 56ms/step - accuracy: 0.8029 - loss: 0.5557 - val_accuracy: 0.8313 - val_loss: 0.4825\n",
            "Epoch 6/50\n",
            "\u001b[1m94/94\u001b[0m \u001b[32m━━━━━━━━━━━━━━━━━━━━\u001b[0m\u001b[37m\u001b[0m \u001b[1m5s\u001b[0m 57ms/step - accuracy: 0.8154 - loss: 0.5143 - val_accuracy: 0.8332 - val_loss: 0.4678\n",
            "Epoch 7/50\n",
            "\u001b[1m94/94\u001b[0m \u001b[32m━━━━━━━━━━━━━━━━━━━━\u001b[0m\u001b[37m\u001b[0m \u001b[1m10s\u001b[0m 59ms/step - accuracy: 0.8209 - loss: 0.4868 - val_accuracy: 0.8423 - val_loss: 0.4598\n",
            "Epoch 8/50\n",
            "\u001b[1m94/94\u001b[0m \u001b[32m━━━━━━━━━━━━━━━━━━━━\u001b[0m\u001b[37m\u001b[0m \u001b[1m10s\u001b[0m 56ms/step - accuracy: 0.8312 - loss: 0.4539 - val_accuracy: 0.8442 - val_loss: 0.4486\n",
            "Epoch 9/50\n",
            "\u001b[1m94/94\u001b[0m \u001b[32m━━━━━━━━━━━━━━━━━━━━\u001b[0m\u001b[37m\u001b[0m \u001b[1m5s\u001b[0m 56ms/step - accuracy: 0.8342 - loss: 0.4391 - val_accuracy: 0.8427 - val_loss: 0.4427\n",
            "Epoch 10/50\n",
            "\u001b[1m94/94\u001b[0m \u001b[32m━━━━━━━━━━━━━━━━━━━━\u001b[0m\u001b[37m\u001b[0m \u001b[1m5s\u001b[0m 56ms/step - accuracy: 0.8428 - loss: 0.4242 - val_accuracy: 0.8478 - val_loss: 0.4347\n",
            "Epoch 11/50\n",
            "\u001b[1m94/94\u001b[0m \u001b[32m━━━━━━━━━━━━━━━━━━━━\u001b[0m\u001b[37m\u001b[0m \u001b[1m5s\u001b[0m 56ms/step - accuracy: 0.8501 - loss: 0.4030 - val_accuracy: 0.8481 - val_loss: 0.4317\n",
            "Epoch 12/50\n",
            "\u001b[1m94/94\u001b[0m \u001b[32m━━━━━━━━━━━━━━━━━━━━\u001b[0m\u001b[37m\u001b[0m \u001b[1m6s\u001b[0m 59ms/step - accuracy: 0.8524 - loss: 0.3952 - val_accuracy: 0.8503 - val_loss: 0.4312\n",
            "Epoch 13/50\n",
            "\u001b[1m94/94\u001b[0m \u001b[32m━━━━━━━━━━━━━━━━━━━━\u001b[0m\u001b[37m\u001b[0m \u001b[1m10s\u001b[0m 57ms/step - accuracy: 0.8533 - loss: 0.3865 - val_accuracy: 0.8547 - val_loss: 0.4264\n",
            "Epoch 14/50\n",
            "\u001b[1m94/94\u001b[0m \u001b[32m━━━━━━━━━━━━━━━━━━━━\u001b[0m\u001b[37m\u001b[0m \u001b[1m10s\u001b[0m 57ms/step - accuracy: 0.8558 - loss: 0.3765 - val_accuracy: 0.8550 - val_loss: 0.4255\n",
            "Epoch 15/50\n",
            "\u001b[1m94/94\u001b[0m \u001b[32m━━━━━━━━━━━━━━━━━━━━\u001b[0m\u001b[37m\u001b[0m \u001b[1m5s\u001b[0m 58ms/step - accuracy: 0.8611 - loss: 0.3654 - val_accuracy: 0.8548 - val_loss: 0.4281\n",
            "Epoch 16/50\n",
            "\u001b[1m94/94\u001b[0m \u001b[32m━━━━━━━━━━━━━━━━━━━━\u001b[0m\u001b[37m\u001b[0m \u001b[1m10s\u001b[0m 57ms/step - accuracy: 0.8629 - loss: 0.3589 - val_accuracy: 0.8556 - val_loss: 0.4176\n",
            "Epoch 17/50\n",
            "\u001b[1m94/94\u001b[0m \u001b[32m━━━━━━━━━━━━━━━━━━━━\u001b[0m\u001b[37m\u001b[0m \u001b[1m5s\u001b[0m 58ms/step - accuracy: 0.8664 - loss: 0.3444 - val_accuracy: 0.8549 - val_loss: 0.4239\n",
            "Epoch 18/50\n",
            "\u001b[1m94/94\u001b[0m \u001b[32m━━━━━━━━━━━━━━━━━━━━\u001b[0m\u001b[37m\u001b[0m \u001b[1m5s\u001b[0m 57ms/step - accuracy: 0.8695 - loss: 0.3461 - val_accuracy: 0.8549 - val_loss: 0.4264\n",
            "Epoch 19/50\n",
            "\u001b[1m94/94\u001b[0m \u001b[32m━━━━━━━━━━━━━━━━━━━━\u001b[0m\u001b[37m\u001b[0m \u001b[1m5s\u001b[0m 56ms/step - accuracy: 0.8757 - loss: 0.3265 - val_accuracy: 0.8577 - val_loss: 0.4203\n",
            "Epoch 20/50\n",
            "\u001b[1m94/94\u001b[0m \u001b[32m━━━━━━━━━━━━━━━━━━━━\u001b[0m\u001b[37m\u001b[0m \u001b[1m5s\u001b[0m 57ms/step - accuracy: 0.8735 - loss: 0.3341 - val_accuracy: 0.8599 - val_loss: 0.4190\n",
            "Epoch 21/50\n",
            "\u001b[1m94/94\u001b[0m \u001b[32m━━━━━━━━━━━━━━━━━━━━\u001b[0m\u001b[37m\u001b[0m \u001b[1m5s\u001b[0m 56ms/step - accuracy: 0.8787 - loss: 0.3202 - val_accuracy: 0.8602 - val_loss: 0.4204\n",
            "Epoch 22/50\n",
            "\u001b[1m94/94\u001b[0m \u001b[32m━━━━━━━━━━━━━━━━━━━━\u001b[0m\u001b[37m\u001b[0m \u001b[1m11s\u001b[0m 59ms/step - accuracy: 0.8820 - loss: 0.3106 - val_accuracy: 0.8605 - val_loss: 0.4238\n",
            "Epoch 23/50\n",
            "\u001b[1m94/94\u001b[0m \u001b[32m━━━━━━━━━━━━━━━━━━━━\u001b[0m\u001b[37m\u001b[0m \u001b[1m10s\u001b[0m 56ms/step - accuracy: 0.8815 - loss: 0.3099 - val_accuracy: 0.8665 - val_loss: 0.4198\n",
            "Epoch 24/50\n",
            "\u001b[1m94/94\u001b[0m \u001b[32m━━━━━━━━━━━━━━━━━━━━\u001b[0m\u001b[37m\u001b[0m \u001b[1m10s\u001b[0m 56ms/step - accuracy: 0.8836 - loss: 0.3036 - val_accuracy: 0.8618 - val_loss: 0.4229\n",
            "Epoch 25/50\n",
            "\u001b[1m94/94\u001b[0m \u001b[32m━━━━━━━━━━━━━━━━━━━━\u001b[0m\u001b[37m\u001b[0m \u001b[1m5s\u001b[0m 56ms/step - accuracy: 0.8818 - loss: 0.3038 - val_accuracy: 0.8636 - val_loss: 0.4261\n",
            "Epoch 26/50\n",
            "\u001b[1m94/94\u001b[0m \u001b[32m━━━━━━━━━━━━━━━━━━━━\u001b[0m\u001b[37m\u001b[0m \u001b[1m5s\u001b[0m 56ms/step - accuracy: 0.8828 - loss: 0.3014 - val_accuracy: 0.8605 - val_loss: 0.4243\n",
            "Epoch 27/50\n",
            "\u001b[1m94/94\u001b[0m \u001b[32m━━━━━━━━━━━━━━━━━━━━\u001b[0m\u001b[37m\u001b[0m \u001b[1m5s\u001b[0m 57ms/step - accuracy: 0.8872 - loss: 0.2919 - val_accuracy: 0.8590 - val_loss: 0.4299\n",
            "Epoch 28/50\n",
            "\u001b[1m94/94\u001b[0m \u001b[32m━━━━━━━━━━━━━━━━━━━━\u001b[0m\u001b[37m\u001b[0m \u001b[1m11s\u001b[0m 60ms/step - accuracy: 0.8905 - loss: 0.2830 - val_accuracy: 0.8626 - val_loss: 0.4385\n",
            "Epoch 29/50\n",
            "\u001b[1m94/94\u001b[0m \u001b[32m━━━━━━━━━━━━━━━━━━━━\u001b[0m\u001b[37m\u001b[0m \u001b[1m5s\u001b[0m 56ms/step - accuracy: 0.8905 - loss: 0.2846 - val_accuracy: 0.8623 - val_loss: 0.4297\n",
            "Epoch 30/50\n",
            "\u001b[1m94/94\u001b[0m \u001b[32m━━━━━━━━━━━━━━━━━━━━\u001b[0m\u001b[37m\u001b[0m \u001b[1m6s\u001b[0m 59ms/step - accuracy: 0.8934 - loss: 0.2776 - val_accuracy: 0.8650 - val_loss: 0.4313\n",
            "Epoch 31/50\n",
            "\u001b[1m94/94\u001b[0m \u001b[32m━━━━━━━━━━━━━━━━━━━━\u001b[0m\u001b[37m\u001b[0m \u001b[1m5s\u001b[0m 56ms/step - accuracy: 0.8942 - loss: 0.2727 - val_accuracy: 0.8618 - val_loss: 0.4359\n",
            "Epoch 32/50\n",
            "\u001b[1m94/94\u001b[0m \u001b[32m━━━━━━━━━━━━━━━━━━━━\u001b[0m\u001b[37m\u001b[0m \u001b[1m10s\u001b[0m 57ms/step - accuracy: 0.8949 - loss: 0.2735 - val_accuracy: 0.8660 - val_loss: 0.4304\n",
            "Epoch 33/50\n",
            "\u001b[1m94/94\u001b[0m \u001b[32m━━━━━━━━━━━━━━━━━━━━\u001b[0m\u001b[37m\u001b[0m \u001b[1m10s\u001b[0m 59ms/step - accuracy: 0.8956 - loss: 0.2679 - val_accuracy: 0.8635 - val_loss: 0.4385\n",
            "Epoch 34/50\n",
            "\u001b[1m94/94\u001b[0m \u001b[32m━━━━━━━━━━━━━━━━━━━━\u001b[0m\u001b[37m\u001b[0m \u001b[1m5s\u001b[0m 58ms/step - accuracy: 0.8957 - loss: 0.2669 - val_accuracy: 0.8648 - val_loss: 0.4378\n",
            "Epoch 35/50\n",
            "\u001b[1m94/94\u001b[0m \u001b[32m━━━━━━━━━━━━━━━━━━━━\u001b[0m\u001b[37m\u001b[0m \u001b[1m5s\u001b[0m 58ms/step - accuracy: 0.9008 - loss: 0.2601 - val_accuracy: 0.8641 - val_loss: 0.4455\n",
            "Epoch 36/50\n",
            "\u001b[1m94/94\u001b[0m \u001b[32m━━━━━━━━━━━━━━━━━━━━\u001b[0m\u001b[37m\u001b[0m \u001b[1m5s\u001b[0m 56ms/step - accuracy: 0.8986 - loss: 0.2654 - val_accuracy: 0.8636 - val_loss: 0.4506\n",
            "Epoch 37/50\n",
            "\u001b[1m94/94\u001b[0m \u001b[32m━━━━━━━━━━━━━━━━━━━━\u001b[0m\u001b[37m\u001b[0m \u001b[1m5s\u001b[0m 56ms/step - accuracy: 0.8978 - loss: 0.2621 - val_accuracy: 0.8663 - val_loss: 0.4454\n",
            "Epoch 38/50\n",
            "\u001b[1m94/94\u001b[0m \u001b[32m━━━━━━━━━━━━━━━━━━━━\u001b[0m\u001b[37m\u001b[0m \u001b[1m11s\u001b[0m 59ms/step - accuracy: 0.9009 - loss: 0.2562 - val_accuracy: 0.8658 - val_loss: 0.4468\n",
            "Epoch 39/50\n",
            "\u001b[1m94/94\u001b[0m \u001b[32m━━━━━━━━━━━━━━━━━━━━\u001b[0m\u001b[37m\u001b[0m \u001b[1m10s\u001b[0m 56ms/step - accuracy: 0.9010 - loss: 0.2520 - val_accuracy: 0.8666 - val_loss: 0.4443\n",
            "Epoch 40/50\n",
            "\u001b[1m94/94\u001b[0m \u001b[32m━━━━━━━━━━━━━━━━━━━━\u001b[0m\u001b[37m\u001b[0m \u001b[1m5s\u001b[0m 56ms/step - accuracy: 0.9047 - loss: 0.2513 - val_accuracy: 0.8654 - val_loss: 0.4586\n",
            "Epoch 41/50\n",
            "\u001b[1m94/94\u001b[0m \u001b[32m━━━━━━━━━━━━━━━━━━━━\u001b[0m\u001b[37m\u001b[0m \u001b[1m10s\u001b[0m 56ms/step - accuracy: 0.8997 - loss: 0.2508 - val_accuracy: 0.8671 - val_loss: 0.4561\n",
            "Epoch 42/50\n",
            "\u001b[1m94/94\u001b[0m \u001b[32m━━━━━━━━━━━━━━━━━━━━\u001b[0m\u001b[37m\u001b[0m \u001b[1m10s\u001b[0m 56ms/step - accuracy: 0.9038 - loss: 0.2464 - val_accuracy: 0.8645 - val_loss: 0.4490\n",
            "Epoch 43/50\n",
            "\u001b[1m94/94\u001b[0m \u001b[32m━━━━━━━━━━━━━━━━━━━━\u001b[0m\u001b[37m\u001b[0m \u001b[1m5s\u001b[0m 56ms/step - accuracy: 0.9060 - loss: 0.2405 - val_accuracy: 0.8652 - val_loss: 0.4526\n",
            "Epoch 44/50\n",
            "\u001b[1m94/94\u001b[0m \u001b[32m━━━━━━━━━━━━━━━━━━━━\u001b[0m\u001b[37m\u001b[0m \u001b[1m5s\u001b[0m 56ms/step - accuracy: 0.9076 - loss: 0.2381 - val_accuracy: 0.8667 - val_loss: 0.4585\n",
            "Epoch 45/50\n",
            "\u001b[1m94/94\u001b[0m \u001b[32m━━━━━━━━━━━━━━━━━━━━\u001b[0m\u001b[37m\u001b[0m \u001b[1m10s\u001b[0m 56ms/step - accuracy: 0.9054 - loss: 0.2407 - val_accuracy: 0.8652 - val_loss: 0.4659\n",
            "Epoch 46/50\n",
            "\u001b[1m94/94\u001b[0m \u001b[32m━━━━━━━━━━━━━━━━━━━━\u001b[0m\u001b[37m\u001b[0m \u001b[1m11s\u001b[0m 59ms/step - accuracy: 0.9074 - loss: 0.2371 - val_accuracy: 0.8648 - val_loss: 0.4734\n",
            "Epoch 47/50\n",
            "\u001b[1m94/94\u001b[0m \u001b[32m━━━━━━━━━━━━━━━━━━━━\u001b[0m\u001b[37m\u001b[0m \u001b[1m10s\u001b[0m 57ms/step - accuracy: 0.9077 - loss: 0.2364 - val_accuracy: 0.8659 - val_loss: 0.4776\n",
            "Epoch 48/50\n",
            "\u001b[1m94/94\u001b[0m \u001b[32m━━━━━━━━━━━━━━━━━━━━\u001b[0m\u001b[37m\u001b[0m \u001b[1m10s\u001b[0m 56ms/step - accuracy: 0.9127 - loss: 0.2278 - val_accuracy: 0.8655 - val_loss: 0.4819\n",
            "Epoch 49/50\n",
            "\u001b[1m94/94\u001b[0m \u001b[32m━━━━━━━━━━━━━━━━━━━━\u001b[0m\u001b[37m\u001b[0m \u001b[1m10s\u001b[0m 56ms/step - accuracy: 0.9070 - loss: 0.2329 - val_accuracy: 0.8657 - val_loss: 0.4950\n",
            "Epoch 50/50\n",
            "\u001b[1m94/94\u001b[0m \u001b[32m━━━━━━━━━━━━━━━━━━━━\u001b[0m\u001b[37m\u001b[0m \u001b[1m11s\u001b[0m 59ms/step - accuracy: 0.9100 - loss: 0.2299 - val_accuracy: 0.8677 - val_loss: 0.4919\n"
          ]
        },
        {
          "output_type": "execute_result",
          "data": {
            "text/plain": [
              "<keras.src.callbacks.history.History at 0x7c745421faf0>"
            ]
          },
          "metadata": {},
          "execution_count": 61
        }
      ]
    },
    {
      "cell_type": "code",
      "source": [
        "test_loss, test_accuracy = model.evaluate(X_test_prepared, Y_test_prepared)\n",
        "print(f'Test Loss: {test_loss}')\n",
        "print(f'Test Accuracy: {test_accuracy}')"
      ],
      "metadata": {
        "colab": {
          "base_uri": "https://localhost:8080/"
        },
        "id": "PwgBDS_wxAXn",
        "outputId": "c871dfaf-4ae7-455b-f38b-374fdf2b06c7"
      },
      "execution_count": 62,
      "outputs": [
        {
          "output_type": "stream",
          "name": "stdout",
          "text": [
            "\u001b[1m313/313\u001b[0m \u001b[32m━━━━━━━━━━━━━━━━━━━━\u001b[0m\u001b[37m\u001b[0m \u001b[1m4s\u001b[0m 9ms/step - accuracy: 0.8671 - loss: 0.4822\n",
            "Test Loss: 0.4937053620815277\n",
            "Test Accuracy: 0.8672000169754028\n"
          ]
        }
      ]
    },
    {
      "cell_type": "markdown",
      "source": [
        "Максимум был результат 0,87, лучше не нашел(либо с переобучением или высоким val_loss)"
      ],
      "metadata": {
        "id": "qVVKcuvawDqI"
      }
    },
    {
      "cell_type": "markdown",
      "source": [
        "Дообучение"
      ],
      "metadata": {
        "id": "sFbpcRnuwT4T"
      }
    },
    {
      "cell_type": "code",
      "source": [
        "(x_train, y_train), (x_test, y_test) = tf.keras.datasets.fashion_mnist.load_data()"
      ],
      "metadata": {
        "id": "r3m6jfB1whdO"
      },
      "execution_count": 64,
      "outputs": []
    },
    {
      "cell_type": "code",
      "source": [
        "# Change image size\n",
        "\n",
        "X_train_resized = []\n",
        "X_test_resized = []\n",
        "\n",
        "for image in x_train:\n",
        "    image = Image.fromarray(image)\n",
        "    image = image.resize((32, 32))\n",
        "    image = np.array(image)\n",
        "    X_train_resized.append(image)\n",
        "\n",
        "for image in x_test:\n",
        "    image = Image.fromarray(image)\n",
        "    image = image.resize((32, 32))\n",
        "    image = np.array(image)\n",
        "    X_test_resized.append(image)\n",
        "\n",
        "X_train_resized = np.array(X_train_resized)\n",
        "X_test_resized = np.array(X_test_resized)"
      ],
      "metadata": {
        "id": "jSgsfIU7ymyU"
      },
      "execution_count": 65,
      "outputs": []
    },
    {
      "cell_type": "code",
      "source": [
        "# Add a third channel to the images\n",
        "\n",
        "X_train_resized = np.repeat(X_train_resized[..., np.newaxis], 3, -1)\n",
        "X_test_resized = np.repeat(X_test_resized[..., np.newaxis], 3, -1)"
      ],
      "metadata": {
        "id": "8QFBQf4gypZv"
      },
      "execution_count": 66,
      "outputs": []
    },
    {
      "cell_type": "code",
      "source": [
        "# Preprocess the images\n",
        "\n",
        "X_train_prepared = tf.keras.applications.vgg16.preprocess_input(X_train_resized)\n",
        "X_test_prepared = tf.keras.applications.vgg16.preprocess_input(X_test_resized)"
      ],
      "metadata": {
        "id": "RELqWp4ayr11"
      },
      "execution_count": 67,
      "outputs": []
    },
    {
      "cell_type": "code",
      "source": [
        "# one-hot encoding\n",
        "Y_train_prepared = tf.keras.utils.to_categorical(y_train, num_classes=10)\n",
        "Y_test_prepared = tf.keras.utils.to_categorical(y_test, num_classes=10)"
      ],
      "metadata": {
        "id": "5XneNPLfyxRw"
      },
      "execution_count": 68,
      "outputs": []
    },
    {
      "cell_type": "code",
      "source": [
        "base_model = VGG16(weights='imagenet', include_top=False, input_shape=(32, 32, 3))\n",
        "base_model.trainable = False"
      ],
      "metadata": {
        "id": "WKnF10Bly1p2"
      },
      "execution_count": 69,
      "outputs": []
    },
    {
      "cell_type": "code",
      "source": [
        "# Разморозка некоторых шаров\n",
        "\n",
        "for layer in base_model.layers[-5:]:\n",
        "    layer.trainable = True"
      ],
      "metadata": {
        "id": "UrWynV9Jy2x8"
      },
      "execution_count": 70,
      "outputs": []
    },
    {
      "cell_type": "code",
      "source": [
        "from keras import regularizers\n",
        "\n",
        "model = models.Sequential()\n",
        "model.add(base_model)\n",
        "model.add(layers.Flatten())\n",
        "model.add(layers.Dense(256, activation='relu'))\n",
        "# model.add(layers.Dense(64, activation='relu', kernel_initializer=\"he_normal\", kernel_regularizer=regularizers.l2())),\n",
        "model.add(layers.Dropout(0.5))\n",
        "model.add(layers.Dense(10, activation='softmax'))"
      ],
      "metadata": {
        "id": "7_4IKRhAzJ0E"
      },
      "execution_count": 71,
      "outputs": []
    },
    {
      "cell_type": "code",
      "source": [
        "model.compile(\n",
        "    optimizer='adam',\n",
        "    loss='categorical_crossentropy',\n",
        "    metrics=['accuracy']\n",
        ")"
      ],
      "metadata": {
        "id": "Wxchm7n3zMbH"
      },
      "execution_count": 72,
      "outputs": []
    },
    {
      "cell_type": "code",
      "source": [
        "model.fit(X_train_prepared, Y_train_prepared, epochs=50, batch_size=512, validation_split=0.2)"
      ],
      "metadata": {
        "colab": {
          "base_uri": "https://localhost:8080/"
        },
        "id": "IUyyXus3zOYz",
        "outputId": "3b2ccdb9-47ec-409e-e8b4-1ccfdcfae850"
      },
      "execution_count": 73,
      "outputs": [
        {
          "output_type": "stream",
          "name": "stdout",
          "text": [
            "Epoch 1/50\n",
            "\u001b[1m94/94\u001b[0m \u001b[32m━━━━━━━━━━━━━━━━━━━━\u001b[0m\u001b[37m\u001b[0m \u001b[1m16s\u001b[0m 115ms/step - accuracy: 0.1048 - loss: 7.7737 - val_accuracy: 0.1030 - val_loss: 2.3026\n",
            "Epoch 2/50\n",
            "\u001b[1m94/94\u001b[0m \u001b[32m━━━━━━━━━━━━━━━━━━━━\u001b[0m\u001b[37m\u001b[0m \u001b[1m7s\u001b[0m 70ms/step - accuracy: 0.0974 - loss: 2.3027 - val_accuracy: 0.0983 - val_loss: 2.3026\n",
            "Epoch 3/50\n",
            "\u001b[1m94/94\u001b[0m \u001b[32m━━━━━━━━━━━━━━━━━━━━\u001b[0m\u001b[37m\u001b[0m \u001b[1m7s\u001b[0m 72ms/step - accuracy: 0.1002 - loss: 2.3026 - val_accuracy: 0.0957 - val_loss: 2.3027\n",
            "Epoch 4/50\n",
            "\u001b[1m94/94\u001b[0m \u001b[32m━━━━━━━━━━━━━━━━━━━━\u001b[0m\u001b[37m\u001b[0m \u001b[1m10s\u001b[0m 69ms/step - accuracy: 0.1023 - loss: 2.3026 - val_accuracy: 0.0957 - val_loss: 2.3027\n",
            "Epoch 5/50\n",
            "\u001b[1m94/94\u001b[0m \u001b[32m━━━━━━━━━━━━━━━━━━━━\u001b[0m\u001b[37m\u001b[0m \u001b[1m7s\u001b[0m 71ms/step - accuracy: 0.0992 - loss: 2.3026 - val_accuracy: 0.0957 - val_loss: 2.3027\n",
            "Epoch 6/50\n",
            "\u001b[1m94/94\u001b[0m \u001b[32m━━━━━━━━━━━━━━━━━━━━\u001b[0m\u001b[37m\u001b[0m \u001b[1m10s\u001b[0m 72ms/step - accuracy: 0.0996 - loss: 2.3026 - val_accuracy: 0.0957 - val_loss: 2.3027\n",
            "Epoch 7/50\n",
            "\u001b[1m94/94\u001b[0m \u001b[32m━━━━━━━━━━━━━━━━━━━━\u001b[0m\u001b[37m\u001b[0m \u001b[1m7s\u001b[0m 73ms/step - accuracy: 0.1013 - loss: 2.3026 - val_accuracy: 0.0957 - val_loss: 2.3027\n",
            "Epoch 8/50\n",
            "\u001b[1m94/94\u001b[0m \u001b[32m━━━━━━━━━━━━━━━━━━━━\u001b[0m\u001b[37m\u001b[0m \u001b[1m10s\u001b[0m 72ms/step - accuracy: 0.1015 - loss: 2.3025 - val_accuracy: 0.0957 - val_loss: 2.3027\n",
            "Epoch 9/50\n",
            "\u001b[1m94/94\u001b[0m \u001b[32m━━━━━━━━━━━━━━━━━━━━\u001b[0m\u001b[37m\u001b[0m \u001b[1m10s\u001b[0m 69ms/step - accuracy: 0.1024 - loss: 2.3026 - val_accuracy: 0.0957 - val_loss: 2.3027\n",
            "Epoch 10/50\n",
            "\u001b[1m94/94\u001b[0m \u001b[32m━━━━━━━━━━━━━━━━━━━━\u001b[0m\u001b[37m\u001b[0m \u001b[1m7s\u001b[0m 71ms/step - accuracy: 0.1021 - loss: 2.3026 - val_accuracy: 0.0957 - val_loss: 2.3027\n",
            "Epoch 11/50\n",
            "\u001b[1m94/94\u001b[0m \u001b[32m━━━━━━━━━━━━━━━━━━━━\u001b[0m\u001b[37m\u001b[0m \u001b[1m7s\u001b[0m 73ms/step - accuracy: 0.1026 - loss: 2.3026 - val_accuracy: 0.0957 - val_loss: 2.3027\n",
            "Epoch 12/50\n",
            "\u001b[1m94/94\u001b[0m \u001b[32m━━━━━━━━━━━━━━━━━━━━\u001b[0m\u001b[37m\u001b[0m \u001b[1m7s\u001b[0m 71ms/step - accuracy: 0.1028 - loss: 2.3025 - val_accuracy: 0.0957 - val_loss: 2.3027\n",
            "Epoch 13/50\n",
            "\u001b[1m94/94\u001b[0m \u001b[32m━━━━━━━━━━━━━━━━━━━━\u001b[0m\u001b[37m\u001b[0m \u001b[1m10s\u001b[0m 72ms/step - accuracy: 0.0997 - loss: 2.3026 - val_accuracy: 0.0957 - val_loss: 2.3027\n",
            "Epoch 14/50\n",
            "\u001b[1m94/94\u001b[0m \u001b[32m━━━━━━━━━━━━━━━━━━━━\u001b[0m\u001b[37m\u001b[0m \u001b[1m10s\u001b[0m 71ms/step - accuracy: 0.0974 - loss: 2.3026 - val_accuracy: 0.0957 - val_loss: 2.3027\n",
            "Epoch 15/50\n",
            "\u001b[1m94/94\u001b[0m \u001b[32m━━━━━━━━━━━━━━━━━━━━\u001b[0m\u001b[37m\u001b[0m \u001b[1m7s\u001b[0m 71ms/step - accuracy: 0.0988 - loss: 2.3026 - val_accuracy: 0.0957 - val_loss: 2.3027\n",
            "Epoch 16/50\n",
            "\u001b[1m94/94\u001b[0m \u001b[32m━━━━━━━━━━━━━━━━━━━━\u001b[0m\u001b[37m\u001b[0m \u001b[1m11s\u001b[0m 74ms/step - accuracy: 0.0997 - loss: 2.3026 - val_accuracy: 0.0957 - val_loss: 2.3027\n",
            "Epoch 17/50\n",
            "\u001b[1m94/94\u001b[0m \u001b[32m━━━━━━━━━━━━━━━━━━━━\u001b[0m\u001b[37m\u001b[0m \u001b[1m10s\u001b[0m 73ms/step - accuracy: 0.0974 - loss: 2.3026 - val_accuracy: 0.0957 - val_loss: 2.3027\n",
            "Epoch 18/50\n",
            "\u001b[1m94/94\u001b[0m \u001b[32m━━━━━━━━━━━━━━━━━━━━\u001b[0m\u001b[37m\u001b[0m \u001b[1m10s\u001b[0m 70ms/step - accuracy: 0.1009 - loss: 2.3026 - val_accuracy: 0.0957 - val_loss: 2.3027\n",
            "Epoch 19/50\n",
            "\u001b[1m94/94\u001b[0m \u001b[32m━━━━━━━━━━━━━━━━━━━━\u001b[0m\u001b[37m\u001b[0m \u001b[1m10s\u001b[0m 70ms/step - accuracy: 0.1013 - loss: 2.3026 - val_accuracy: 0.0957 - val_loss: 2.3027\n",
            "Epoch 20/50\n",
            "\u001b[1m94/94\u001b[0m \u001b[32m━━━━━━━━━━━━━━━━━━━━\u001b[0m\u001b[37m\u001b[0m \u001b[1m7s\u001b[0m 71ms/step - accuracy: 0.0996 - loss: 2.3026 - val_accuracy: 0.0957 - val_loss: 2.3027\n",
            "Epoch 21/50\n",
            "\u001b[1m94/94\u001b[0m \u001b[32m━━━━━━━━━━━━━━━━━━━━\u001b[0m\u001b[37m\u001b[0m \u001b[1m11s\u001b[0m 74ms/step - accuracy: 0.1017 - loss: 2.3026 - val_accuracy: 0.0957 - val_loss: 2.3027\n",
            "Epoch 22/50\n",
            "\u001b[1m94/94\u001b[0m \u001b[32m━━━━━━━━━━━━━━━━━━━━\u001b[0m\u001b[37m\u001b[0m \u001b[1m10s\u001b[0m 71ms/step - accuracy: 0.1034 - loss: 2.3026 - val_accuracy: 0.0983 - val_loss: 2.3027\n",
            "Epoch 23/50\n",
            "\u001b[1m94/94\u001b[0m \u001b[32m━━━━━━━━━━━━━━━━━━━━\u001b[0m\u001b[37m\u001b[0m \u001b[1m10s\u001b[0m 71ms/step - accuracy: 0.1001 - loss: 2.3026 - val_accuracy: 0.0957 - val_loss: 2.3027\n",
            "Epoch 24/50\n",
            "\u001b[1m94/94\u001b[0m \u001b[32m━━━━━━━━━━━━━━━━━━━━\u001b[0m\u001b[37m\u001b[0m \u001b[1m7s\u001b[0m 71ms/step - accuracy: 0.1022 - loss: 2.3026 - val_accuracy: 0.0957 - val_loss: 2.3027\n",
            "Epoch 25/50\n",
            "\u001b[1m94/94\u001b[0m \u001b[32m━━━━━━━━━━━━━━━━━━━━\u001b[0m\u001b[37m\u001b[0m \u001b[1m10s\u001b[0m 71ms/step - accuracy: 0.1006 - loss: 2.3026 - val_accuracy: 0.0957 - val_loss: 2.3027\n",
            "Epoch 26/50\n",
            "\u001b[1m94/94\u001b[0m \u001b[32m━━━━━━━━━━━━━━━━━━━━\u001b[0m\u001b[37m\u001b[0m \u001b[1m7s\u001b[0m 71ms/step - accuracy: 0.0973 - loss: 2.3026 - val_accuracy: 0.0957 - val_loss: 2.3027\n",
            "Epoch 27/50\n",
            "\u001b[1m94/94\u001b[0m \u001b[32m━━━━━━━━━━━━━━━━━━━━\u001b[0m\u001b[37m\u001b[0m \u001b[1m10s\u001b[0m 70ms/step - accuracy: 0.0994 - loss: 2.3026 - val_accuracy: 0.0957 - val_loss: 2.3027\n",
            "Epoch 28/50\n",
            "\u001b[1m94/94\u001b[0m \u001b[32m━━━━━━━━━━━━━━━━━━━━\u001b[0m\u001b[37m\u001b[0m \u001b[1m10s\u001b[0m 71ms/step - accuracy: 0.1000 - loss: 2.3026 - val_accuracy: 0.0957 - val_loss: 2.3027\n",
            "Epoch 29/50\n",
            "\u001b[1m94/94\u001b[0m \u001b[32m━━━━━━━━━━━━━━━━━━━━\u001b[0m\u001b[37m\u001b[0m \u001b[1m10s\u001b[0m 74ms/step - accuracy: 0.1024 - loss: 2.3026 - val_accuracy: 0.0957 - val_loss: 2.3027\n",
            "Epoch 30/50\n",
            "\u001b[1m94/94\u001b[0m \u001b[32m━━━━━━━━━━━━━━━━━━━━\u001b[0m\u001b[37m\u001b[0m \u001b[1m10s\u001b[0m 74ms/step - accuracy: 0.0985 - loss: 2.3026 - val_accuracy: 0.0957 - val_loss: 2.3027\n",
            "Epoch 31/50\n",
            "\u001b[1m94/94\u001b[0m \u001b[32m━━━━━━━━━━━━━━━━━━━━\u001b[0m\u001b[37m\u001b[0m \u001b[1m10s\u001b[0m 71ms/step - accuracy: 0.1027 - loss: 2.3025 - val_accuracy: 0.0957 - val_loss: 2.3027\n",
            "Epoch 32/50\n",
            "\u001b[1m94/94\u001b[0m \u001b[32m━━━━━━━━━━━━━━━━━━━━\u001b[0m\u001b[37m\u001b[0m \u001b[1m7s\u001b[0m 74ms/step - accuracy: 0.1025 - loss: 2.3026 - val_accuracy: 0.0957 - val_loss: 2.3027\n",
            "Epoch 33/50\n",
            "\u001b[1m94/94\u001b[0m \u001b[32m━━━━━━━━━━━━━━━━━━━━\u001b[0m\u001b[37m\u001b[0m \u001b[1m7s\u001b[0m 73ms/step - accuracy: 0.0976 - loss: 2.3026 - val_accuracy: 0.0957 - val_loss: 2.3027\n",
            "Epoch 34/50\n",
            "\u001b[1m94/94\u001b[0m \u001b[32m━━━━━━━━━━━━━━━━━━━━\u001b[0m\u001b[37m\u001b[0m \u001b[1m10s\u001b[0m 73ms/step - accuracy: 0.0983 - loss: 2.3026 - val_accuracy: 0.0957 - val_loss: 2.3027\n",
            "Epoch 35/50\n",
            "\u001b[1m94/94\u001b[0m \u001b[32m━━━━━━━━━━━━━━━━━━━━\u001b[0m\u001b[37m\u001b[0m \u001b[1m7s\u001b[0m 71ms/step - accuracy: 0.0988 - loss: 2.3026 - val_accuracy: 0.0957 - val_loss: 2.3027\n",
            "Epoch 36/50\n",
            "\u001b[1m94/94\u001b[0m \u001b[32m━━━━━━━━━━━━━━━━━━━━\u001b[0m\u001b[37m\u001b[0m \u001b[1m7s\u001b[0m 70ms/step - accuracy: 0.0992 - loss: 2.3026 - val_accuracy: 0.0957 - val_loss: 2.3027\n",
            "Epoch 37/50\n",
            "\u001b[1m94/94\u001b[0m \u001b[32m━━━━━━━━━━━━━━━━━━━━\u001b[0m\u001b[37m\u001b[0m \u001b[1m10s\u001b[0m 73ms/step - accuracy: 0.1021 - loss: 2.3026 - val_accuracy: 0.0957 - val_loss: 2.3027\n",
            "Epoch 38/50\n",
            "\u001b[1m94/94\u001b[0m \u001b[32m━━━━━━━━━━━━━━━━━━━━\u001b[0m\u001b[37m\u001b[0m \u001b[1m7s\u001b[0m 74ms/step - accuracy: 0.1019 - loss: 2.3026 - val_accuracy: 0.0957 - val_loss: 2.3027\n",
            "Epoch 39/50\n",
            "\u001b[1m94/94\u001b[0m \u001b[32m━━━━━━━━━━━━━━━━━━━━\u001b[0m\u001b[37m\u001b[0m \u001b[1m7s\u001b[0m 70ms/step - accuracy: 0.1017 - loss: 2.3026 - val_accuracy: 0.0957 - val_loss: 2.3027\n",
            "Epoch 40/50\n",
            "\u001b[1m94/94\u001b[0m \u001b[32m━━━━━━━━━━━━━━━━━━━━\u001b[0m\u001b[37m\u001b[0m \u001b[1m7s\u001b[0m 71ms/step - accuracy: 0.1018 - loss: 2.3026 - val_accuracy: 0.0957 - val_loss: 2.3027\n",
            "Epoch 41/50\n",
            "\u001b[1m94/94\u001b[0m \u001b[32m━━━━━━━━━━━━━━━━━━━━\u001b[0m\u001b[37m\u001b[0m \u001b[1m7s\u001b[0m 73ms/step - accuracy: 0.1006 - loss: 2.3026 - val_accuracy: 0.0957 - val_loss: 2.3027\n",
            "Epoch 42/50\n",
            "\u001b[1m94/94\u001b[0m \u001b[32m━━━━━━━━━━━━━━━━━━━━\u001b[0m\u001b[37m\u001b[0m \u001b[1m10s\u001b[0m 70ms/step - accuracy: 0.1007 - loss: 2.3026 - val_accuracy: 0.0957 - val_loss: 2.3027\n",
            "Epoch 43/50\n",
            "\u001b[1m94/94\u001b[0m \u001b[32m━━━━━━━━━━━━━━━━━━━━\u001b[0m\u001b[37m\u001b[0m \u001b[1m7s\u001b[0m 71ms/step - accuracy: 0.1002 - loss: 2.3026 - val_accuracy: 0.0957 - val_loss: 2.3027\n",
            "Epoch 44/50\n",
            "\u001b[1m94/94\u001b[0m \u001b[32m━━━━━━━━━━━━━━━━━━━━\u001b[0m\u001b[37m\u001b[0m \u001b[1m11s\u001b[0m 74ms/step - accuracy: 0.1001 - loss: 2.3026 - val_accuracy: 0.0957 - val_loss: 2.3027\n",
            "Epoch 45/50\n",
            "\u001b[1m94/94\u001b[0m \u001b[32m━━━━━━━━━━━━━━━━━━━━\u001b[0m\u001b[37m\u001b[0m \u001b[1m7s\u001b[0m 70ms/step - accuracy: 0.1017 - loss: 2.3026 - val_accuracy: 0.0957 - val_loss: 2.3027\n",
            "Epoch 46/50\n",
            "\u001b[1m94/94\u001b[0m \u001b[32m━━━━━━━━━━━━━━━━━━━━\u001b[0m\u001b[37m\u001b[0m \u001b[1m10s\u001b[0m 70ms/step - accuracy: 0.1027 - loss: 2.3026 - val_accuracy: 0.0957 - val_loss: 2.3027\n",
            "Epoch 47/50\n",
            "\u001b[1m94/94\u001b[0m \u001b[32m━━━━━━━━━━━━━━━━━━━━\u001b[0m\u001b[37m\u001b[0m \u001b[1m7s\u001b[0m 71ms/step - accuracy: 0.0995 - loss: 2.3026 - val_accuracy: 0.0957 - val_loss: 2.3027\n",
            "Epoch 48/50\n",
            "\u001b[1m94/94\u001b[0m \u001b[32m━━━━━━━━━━━━━━━━━━━━\u001b[0m\u001b[37m\u001b[0m \u001b[1m11s\u001b[0m 74ms/step - accuracy: 0.1012 - loss: 2.3026 - val_accuracy: 0.0957 - val_loss: 2.3027\n",
            "Epoch 49/50\n",
            "\u001b[1m94/94\u001b[0m \u001b[32m━━━━━━━━━━━━━━━━━━━━\u001b[0m\u001b[37m\u001b[0m \u001b[1m7s\u001b[0m 70ms/step - accuracy: 0.1024 - loss: 2.3026 - val_accuracy: 0.0957 - val_loss: 2.3027\n",
            "Epoch 50/50\n",
            "\u001b[1m94/94\u001b[0m \u001b[32m━━━━━━━━━━━━━━━━━━━━\u001b[0m\u001b[37m\u001b[0m \u001b[1m11s\u001b[0m 74ms/step - accuracy: 0.1021 - loss: 2.3026 - val_accuracy: 0.0957 - val_loss: 2.3027\n"
          ]
        },
        {
          "output_type": "execute_result",
          "data": {
            "text/plain": [
              "<keras.src.callbacks.history.History at 0x7c745c5315a0>"
            ]
          },
          "metadata": {},
          "execution_count": 73
        }
      ]
    },
    {
      "cell_type": "code",
      "source": [
        "test_loss, test_accuracy = model.evaluate(X_test_prepared, Y_test_prepared)\n",
        "print(f'Test Loss: {test_loss}')\n",
        "print(f'Test Accuracy: {test_accuracy}')"
      ],
      "metadata": {
        "colab": {
          "base_uri": "https://localhost:8080/"
        },
        "id": "NKQHr1l9zO1i",
        "outputId": "9b5539eb-4850-4c7f-a9d4-c250ca3aa0f9"
      },
      "execution_count": 74,
      "outputs": [
        {
          "output_type": "stream",
          "name": "stdout",
          "text": [
            "\u001b[1m313/313\u001b[0m \u001b[32m━━━━━━━━━━━━━━━━━━━━\u001b[0m\u001b[37m\u001b[0m \u001b[1m3s\u001b[0m 9ms/step - accuracy: 0.0978 - loss: 2.3027\n",
            "Test Loss: 2.302597761154175\n",
            "Test Accuracy: 0.10000000149011612\n"
          ]
        }
      ]
    },
    {
      "cell_type": "markdown",
      "source": [
        "В данном случае дообучение полностью провалилось Test Accuracy: 0.10000000149011612"
      ],
      "metadata": {
        "id": "G8ISn0QC1FoK"
      }
    }
  ]
}