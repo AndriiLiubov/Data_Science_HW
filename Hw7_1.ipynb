{
  "nbformat": 4,
  "nbformat_minor": 0,
  "metadata": {
    "colab": {
      "provenance": []
    },
    "kernelspec": {
      "name": "python3",
      "display_name": "Python 3"
    },
    "language_info": {
      "name": "python"
    }
  },
  "cells": [
    {
      "cell_type": "code",
      "execution_count": null,
      "metadata": {
        "id": "xGeTOsFZysdi",
        "colab": {
          "base_uri": "https://localhost:8080/"
        },
        "outputId": "f51a393b-2cbf-47ab-bafa-ed6083d5f5e9"
      },
      "outputs": [
        {
          "output_type": "stream",
          "name": "stdout",
          "text": [
            "Collecting scikit-surprise\n",
            "  Downloading scikit_surprise-1.1.4.tar.gz (154 kB)\n",
            "\u001b[2K     \u001b[90m━━━━━━━━━━━━━━━━━━━━━━━━━━━━━━━━━━━━━━━━\u001b[0m \u001b[32m154.4/154.4 kB\u001b[0m \u001b[31m2.5 MB/s\u001b[0m eta \u001b[36m0:00:00\u001b[0m\n",
            "\u001b[?25h  Installing build dependencies ... \u001b[?25l\u001b[?25hdone\n",
            "  Getting requirements to build wheel ... \u001b[?25l\u001b[?25hdone\n",
            "  Preparing metadata (pyproject.toml) ... \u001b[?25l\u001b[?25hdone\n",
            "Requirement already satisfied: joblib>=1.2.0 in /usr/local/lib/python3.10/dist-packages (from scikit-surprise) (1.4.2)\n",
            "Requirement already satisfied: numpy>=1.19.5 in /usr/local/lib/python3.10/dist-packages (from scikit-surprise) (1.26.4)\n",
            "Requirement already satisfied: scipy>=1.6.0 in /usr/local/lib/python3.10/dist-packages (from scikit-surprise) (1.13.1)\n",
            "Building wheels for collected packages: scikit-surprise\n",
            "  Building wheel for scikit-surprise (pyproject.toml) ... \u001b[?25l\u001b[?25hdone\n",
            "  Created wheel for scikit-surprise: filename=scikit_surprise-1.1.4-cp310-cp310-linux_x86_64.whl size=2357273 sha256=01a28837c163a70c97cdcb89a4f474f318c9859b4b31cdfe7fe5c604862fea7a\n",
            "  Stored in directory: /root/.cache/pip/wheels/4b/3f/df/6acbf0a40397d9bf3ff97f582cc22fb9ce66adde75bc71fd54\n",
            "Successfully built scikit-surprise\n",
            "Installing collected packages: scikit-surprise\n",
            "Successfully installed scikit-surprise-1.1.4\n"
          ]
        }
      ],
      "source": [
        "!pip install scikit-surprise"
      ]
    },
    {
      "cell_type": "code",
      "source": [
        "import pandas as pd\n",
        "from surprise import Dataset, Reader, SVD, KNNBasic, NMF, SVDpp, BaselineOnly, KNNWithMeans, KNNWithZScore, KNNBaseline, SlopeOne, CoClustering\n",
        "from surprise.model_selection import train_test_split\n",
        "from surprise import accuracy\n",
        "from surprise.accuracy import rmse\n",
        "import numpy as np\n",
        "from surprise.model_selection.search import GridSearchCV\n",
        "import matplotlib.pyplot as plt\n",
        "from surprise import NMF"
      ],
      "metadata": {
        "id": "R0PevVPGy-mB"
      },
      "execution_count": null,
      "outputs": []
    },
    {
      "cell_type": "code",
      "source": [
        "data = Dataset.load_builtin(\"ml-100k\")"
      ],
      "metadata": {
        "id": "PEuUc1YBFW3K"
      },
      "execution_count": null,
      "outputs": []
    },
    {
      "cell_type": "code",
      "source": [
        "train_set, test_set = train_test_split(data, test_size=0.25, random_state=42)"
      ],
      "metadata": {
        "id": "EIO7RjebXnZH"
      },
      "execution_count": null,
      "outputs": []
    },
    {
      "cell_type": "code",
      "source": [
        "param_grid = {\n",
        "    \"n_factors\": [6, 8, 10, 12, 14],\n",
        "    \"n_epochs\": [10, 15, 20, 25, 30],\n",
        "    \"lr_all\": [0.002, 0.005, 0.008],\n",
        "    \"reg_all\": [0.02, 0.1]\n",
        "}\n",
        "gs = GridSearchCV(SVD, param_grid, measures=[\"rmse\", \"mae\"], cv=5)\n",
        "\n",
        "gs.fit(data)"
      ],
      "metadata": {
        "id": "q2Q0bC3mGWeb"
      },
      "execution_count": null,
      "outputs": []
    },
    {
      "cell_type": "code",
      "source": [
        "gs.best_score, gs.best_params[\"rmse\"]"
      ],
      "metadata": {
        "colab": {
          "base_uri": "https://localhost:8080/"
        },
        "id": "jMFQdceSGXIJ",
        "outputId": "1cc83097-d424-4f30-c9c1-f55dbbebd097"
      },
      "execution_count": null,
      "outputs": [
        {
          "output_type": "execute_result",
          "data": {
            "text/plain": [
              "({'rmse': 0.939015290507938, 'mae': 0.7407504181867065},\n",
              " {'n_factors': 12, 'n_epochs': 25, 'lr_all': 0.005, 'reg_all': 0.02})"
            ]
          },
          "metadata": {},
          "execution_count": 62
        }
      ]
    },
    {
      "cell_type": "markdown",
      "source": [
        "**SVD**"
      ],
      "metadata": {
        "id": "m7BS1SdIWzfT"
      }
    },
    {
      "cell_type": "code",
      "source": [
        "svd = SVD(n_factors=12, n_epochs=25, lr_all=0.005, reg_all=0.02)\n",
        "svd.fit(train_set)"
      ],
      "metadata": {
        "colab": {
          "base_uri": "https://localhost:8080/"
        },
        "id": "rY6iAHFvW11G",
        "outputId": "aaf420ac-856d-4a36-c465-3d434417c3a8"
      },
      "execution_count": null,
      "outputs": [
        {
          "output_type": "execute_result",
          "data": {
            "text/plain": [
              "<surprise.prediction_algorithms.matrix_factorization.SVD at 0x7da70ee3f970>"
            ]
          },
          "metadata": {},
          "execution_count": 68
        }
      ]
    },
    {
      "cell_type": "code",
      "source": [
        "predictions_svd = svd.test(test_set)\n",
        "rmse_score_svd = accuracy.rmse(predictions_svd)"
      ],
      "metadata": {
        "colab": {
          "base_uri": "https://localhost:8080/"
        },
        "id": "z16EcPulYgjG",
        "outputId": "b293c89c-ef26-4c18-aab4-a37e584fa653"
      },
      "execution_count": null,
      "outputs": [
        {
          "output_type": "stream",
          "name": "stdout",
          "text": [
            "RMSE: 0.9362\n"
          ]
        }
      ]
    },
    {
      "cell_type": "code",
      "source": [
        "predictions_svd[:10]"
      ],
      "metadata": {
        "colab": {
          "base_uri": "https://localhost:8080/"
        },
        "id": "IImC-D7SYx1W",
        "outputId": "542807f6-4ff3-4962-afe7-0f14d5e139c2"
      },
      "execution_count": null,
      "outputs": [
        {
          "output_type": "execute_result",
          "data": {
            "text/plain": [
              "[Prediction(uid='391', iid='591', r_ui=4.0, est=3.556949402427683, details={'was_impossible': False}),\n",
              " Prediction(uid='181', iid='1291', r_ui=1.0, est=1.447591344602151, details={'was_impossible': False}),\n",
              " Prediction(uid='637', iid='268', r_ui=2.0, est=2.9324923407694383, details={'was_impossible': False}),\n",
              " Prediction(uid='332', iid='451', r_ui=5.0, est=3.7214836697311258, details={'was_impossible': False}),\n",
              " Prediction(uid='271', iid='204', r_ui=4.0, est=3.4706789772014393, details={'was_impossible': False}),\n",
              " Prediction(uid='27', iid='286', r_ui=3.0, est=3.6135920786706857, details={'was_impossible': False}),\n",
              " Prediction(uid='387', iid='663', r_ui=4.0, est=3.813416163921578, details={'was_impossible': False}),\n",
              " Prediction(uid='92', iid='722', r_ui=3.0, est=2.9040545700644196, details={'was_impossible': False}),\n",
              " Prediction(uid='820', iid='347', r_ui=4.0, est=3.1869273821819353, details={'was_impossible': False}),\n",
              " Prediction(uid='479', iid='1444', r_ui=1.0, est=2.505590017002656, details={'was_impossible': False})]"
            ]
          },
          "metadata": {},
          "execution_count": 70
        }
      ]
    },
    {
      "cell_type": "markdown",
      "source": [
        "**SVD++**"
      ],
      "metadata": {
        "id": "s8790F-JiMlX"
      }
    },
    {
      "cell_type": "code",
      "source": [
        "svdpp = SVDpp(n_factors=12, n_epochs=25, lr_all=0.005, reg_all=0.02)\n",
        "svdpp.fit(train_set)"
      ],
      "metadata": {
        "colab": {
          "base_uri": "https://localhost:8080/"
        },
        "id": "oRT6VCwGiQHb",
        "outputId": "ed0fc602-a874-46cc-882e-884d529e8cf6"
      },
      "execution_count": null,
      "outputs": [
        {
          "output_type": "execute_result",
          "data": {
            "text/plain": [
              "<surprise.prediction_algorithms.matrix_factorization.SVDpp at 0x7da70ee3fa90>"
            ]
          },
          "metadata": {},
          "execution_count": 72
        }
      ]
    },
    {
      "cell_type": "code",
      "source": [
        "predictions_svdpp = svdpp.test(test_set)\n",
        "rmse_score_svdpp = accuracy.rmse(predictions_svdpp)"
      ],
      "metadata": {
        "colab": {
          "base_uri": "https://localhost:8080/"
        },
        "id": "OUcg8tzQiVxT",
        "outputId": "2a3dc9b0-84a1-421e-9150-d26015a685f3"
      },
      "execution_count": null,
      "outputs": [
        {
          "output_type": "stream",
          "name": "stdout",
          "text": [
            "RMSE: 0.9211\n"
          ]
        }
      ]
    },
    {
      "cell_type": "code",
      "source": [
        "predictions_svdpp[:10]"
      ],
      "metadata": {
        "colab": {
          "base_uri": "https://localhost:8080/"
        },
        "id": "8Is29SKGiqgP",
        "outputId": "54a77fa4-72b0-4326-8974-6e8bc338f125"
      },
      "execution_count": null,
      "outputs": [
        {
          "output_type": "execute_result",
          "data": {
            "text/plain": [
              "[Prediction(uid='391', iid='591', r_ui=4.0, est=3.641466642159433, details={'was_impossible': False}),\n",
              " Prediction(uid='181', iid='1291', r_ui=1.0, est=1.380152593585523, details={'was_impossible': False}),\n",
              " Prediction(uid='637', iid='268', r_ui=2.0, est=2.600756889053291, details={'was_impossible': False}),\n",
              " Prediction(uid='332', iid='451', r_ui=5.0, est=3.907233585593244, details={'was_impossible': False}),\n",
              " Prediction(uid='271', iid='204', r_ui=4.0, est=3.9524048774869915, details={'was_impossible': False}),\n",
              " Prediction(uid='27', iid='286', r_ui=3.0, est=3.7085301630461665, details={'was_impossible': False}),\n",
              " Prediction(uid='387', iid='663', r_ui=4.0, est=3.8913356012476332, details={'was_impossible': False}),\n",
              " Prediction(uid='92', iid='722', r_ui=3.0, est=2.7856848204573486, details={'was_impossible': False}),\n",
              " Prediction(uid='820', iid='347', r_ui=4.0, est=3.1733178865683302, details={'was_impossible': False}),\n",
              " Prediction(uid='479', iid='1444', r_ui=1.0, est=2.6016882286038028, details={'was_impossible': False})]"
            ]
          },
          "metadata": {},
          "execution_count": 74
        }
      ]
    },
    {
      "cell_type": "markdown",
      "source": [
        "**NMF**"
      ],
      "metadata": {
        "id": "awnpi6nFi-DG"
      }
    },
    {
      "cell_type": "code",
      "source": [
        "nmf = NMF(n_factors=12, n_epochs=25)\n",
        "nmf.fit(train_set)"
      ],
      "metadata": {
        "colab": {
          "base_uri": "https://localhost:8080/"
        },
        "id": "DC7WNxHoi-qm",
        "outputId": "a9c13aff-523a-4c77-bf56-1b7c5404ecfe"
      },
      "execution_count": null,
      "outputs": [
        {
          "output_type": "execute_result",
          "data": {
            "text/plain": [
              "<surprise.prediction_algorithms.matrix_factorization.NMF at 0x7da70ee3f3a0>"
            ]
          },
          "metadata": {},
          "execution_count": 76
        }
      ]
    },
    {
      "cell_type": "code",
      "source": [
        "predictions_nmf = nmf.test(test_set)\n",
        "rmse_score_nmf = accuracy.rmse(predictions_nmf)"
      ],
      "metadata": {
        "colab": {
          "base_uri": "https://localhost:8080/"
        },
        "id": "paZ2nA7CjKFo",
        "outputId": "65f44aa3-e0f6-43fe-eb10-738aae6ef037"
      },
      "execution_count": null,
      "outputs": [
        {
          "output_type": "stream",
          "name": "stdout",
          "text": [
            "RMSE: 0.9736\n"
          ]
        }
      ]
    },
    {
      "cell_type": "code",
      "source": [
        "predictions_nmf[:10]"
      ],
      "metadata": {
        "colab": {
          "base_uri": "https://localhost:8080/"
        },
        "id": "kMyuGz2Xjnl1",
        "outputId": "dd4d863a-e172-4cf1-bf81-418642182eb6"
      },
      "execution_count": null,
      "outputs": [
        {
          "output_type": "execute_result",
          "data": {
            "text/plain": [
              "[Prediction(uid='391', iid='591', r_ui=4.0, est=3.494168594393043, details={'was_impossible': False}),\n",
              " Prediction(uid='181', iid='1291', r_ui=1.0, est=1.484309277275209, details={'was_impossible': False}),\n",
              " Prediction(uid='637', iid='268', r_ui=2.0, est=2.790095423774961, details={'was_impossible': False}),\n",
              " Prediction(uid='332', iid='451', r_ui=5.0, est=4.095730195017673, details={'was_impossible': False}),\n",
              " Prediction(uid='271', iid='204', r_ui=4.0, est=3.882727874172054, details={'was_impossible': False}),\n",
              " Prediction(uid='27', iid='286', r_ui=3.0, est=3.9942655794425797, details={'was_impossible': False}),\n",
              " Prediction(uid='387', iid='663', r_ui=4.0, est=3.505532553248431, details={'was_impossible': False}),\n",
              " Prediction(uid='92', iid='722', r_ui=3.0, est=2.8698489128288993, details={'was_impossible': False}),\n",
              " Prediction(uid='820', iid='347', r_ui=4.0, est=2.7793393946168616, details={'was_impossible': False}),\n",
              " Prediction(uid='479', iid='1444', r_ui=1.0, est=2.3948423924802076, details={'was_impossible': False})]"
            ]
          },
          "metadata": {},
          "execution_count": 78
        }
      ]
    },
    {
      "cell_type": "markdown",
      "source": [
        "**Conclusion**"
      ],
      "metadata": {
        "id": "nYXcW3SljuTp"
      }
    },
    {
      "cell_type": "code",
      "source": [
        "print(f'RMSE of SVD: {rmse_score_svd}')\n",
        "print(f'RMSE of SVD++: {rmse_score_svdpp}')\n",
        "print(f'RMSE of NMF: {rmse_score_nmf}')"
      ],
      "metadata": {
        "colab": {
          "base_uri": "https://localhost:8080/"
        },
        "id": "aGeVDx_Gj4KR",
        "outputId": "b80ac65b-be23-4524-c0f7-b793d94e400d"
      },
      "execution_count": null,
      "outputs": [
        {
          "output_type": "stream",
          "name": "stdout",
          "text": [
            "RMSE of SVD: 0.936205369450191\n",
            "RMSE of SVD++: 0.9210826222393086\n",
            "RMSE of NMF: 0.9736184415574112\n"
          ]
        }
      ]
    }
  ]
}